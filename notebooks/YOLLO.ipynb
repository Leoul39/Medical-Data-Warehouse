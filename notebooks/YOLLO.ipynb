{
  "cells": [
    {
      "cell_type": "markdown",
      "metadata": {},
      "source": [
        "## The Object detection I did for some random photos can be found on the public colab link I put below:\n",
        "\n",
        "https://colab.research.google.com/drive/1nnDcX_AVd5I0Dnl5EwY5zIhN1a_1fZHX?usp=sharing"
      ]
    },
    {
      "cell_type": "markdown",
      "metadata": {},
      "source": []
    }
  ],
  "metadata": {
    "colab": {
      "provenance": []
    },
    "kernelspec": {
      "display_name": "Python 3",
      "name": "python3"
    },
    "language_info": {
      "name": "python"
    }
  },
  "nbformat": 4,
  "nbformat_minor": 0
}
